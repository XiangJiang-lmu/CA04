{
 "cells": [
  {
   "cell_type": "code",
   "execution_count": 1,
   "id": "21657eab",
   "metadata": {},
   "outputs": [],
   "source": [
    "import pandas as pd\n",
    "import numpy as np\n",
    "import matplotlib.pyplot as plt"
   ]
  },
  {
   "cell_type": "markdown",
   "id": "1f081d2b",
   "metadata": {},
   "source": [
    "# 1. Data Source and Contents"
   ]
  },
  {
   "cell_type": "code",
   "execution_count": 2,
   "id": "7b76e490",
   "metadata": {},
   "outputs": [
    {
     "data": {
      "text/html": [
       "<div>\n",
       "<style scoped>\n",
       "    .dataframe tbody tr th:only-of-type {\n",
       "        vertical-align: middle;\n",
       "    }\n",
       "\n",
       "    .dataframe tbody tr th {\n",
       "        vertical-align: top;\n",
       "    }\n",
       "\n",
       "    .dataframe thead th {\n",
       "        text-align: right;\n",
       "    }\n",
       "</style>\n",
       "<table border=\"1\" class=\"dataframe\">\n",
       "  <thead>\n",
       "    <tr style=\"text-align: right;\">\n",
       "      <th></th>\n",
       "      <th>hours_per_week_bin</th>\n",
       "      <th>occupation_bin</th>\n",
       "      <th>msr_bin</th>\n",
       "      <th>capital_gl_bin</th>\n",
       "      <th>race_sex_bin</th>\n",
       "      <th>education_num_bin</th>\n",
       "      <th>education_bin</th>\n",
       "      <th>workclass_bin</th>\n",
       "      <th>age_bin</th>\n",
       "      <th>flag</th>\n",
       "      <th>y</th>\n",
       "    </tr>\n",
       "  </thead>\n",
       "  <tbody>\n",
       "    <tr>\n",
       "      <th>0</th>\n",
       "      <td>b. 31-40</td>\n",
       "      <td>b. Mid - Low</td>\n",
       "      <td>b. Mid</td>\n",
       "      <td>c. &gt; 0</td>\n",
       "      <td>c. High</td>\n",
       "      <td>c. 13</td>\n",
       "      <td>c. Bachelors</td>\n",
       "      <td>b. income</td>\n",
       "      <td>d. 36-40 &amp; 56-60</td>\n",
       "      <td>train</td>\n",
       "      <td>0</td>\n",
       "    </tr>\n",
       "    <tr>\n",
       "      <th>1</th>\n",
       "      <td>a. 0-30</td>\n",
       "      <td>e. High</td>\n",
       "      <td>c. High</td>\n",
       "      <td>a. = 0</td>\n",
       "      <td>c. High</td>\n",
       "      <td>c. 13</td>\n",
       "      <td>c. Bachelors</td>\n",
       "      <td>b. income</td>\n",
       "      <td>e. 40-55</td>\n",
       "      <td>train</td>\n",
       "      <td>0</td>\n",
       "    </tr>\n",
       "    <tr>\n",
       "      <th>2</th>\n",
       "      <td>b. 31-40</td>\n",
       "      <td>a. Low</td>\n",
       "      <td>b. Mid</td>\n",
       "      <td>a. = 0</td>\n",
       "      <td>c. High</td>\n",
       "      <td>b. 9-12</td>\n",
       "      <td>b. Mid</td>\n",
       "      <td>b. income</td>\n",
       "      <td>d. 36-40 &amp; 56-60</td>\n",
       "      <td>train</td>\n",
       "      <td>0</td>\n",
       "    </tr>\n",
       "    <tr>\n",
       "      <th>3</th>\n",
       "      <td>b. 31-40</td>\n",
       "      <td>a. Low</td>\n",
       "      <td>c. High</td>\n",
       "      <td>a. = 0</td>\n",
       "      <td>b. Mid</td>\n",
       "      <td>a. 0-8</td>\n",
       "      <td>a. Low</td>\n",
       "      <td>b. income</td>\n",
       "      <td>e. 40-55</td>\n",
       "      <td>train</td>\n",
       "      <td>0</td>\n",
       "    </tr>\n",
       "    <tr>\n",
       "      <th>4</th>\n",
       "      <td>b. 31-40</td>\n",
       "      <td>e. High</td>\n",
       "      <td>c. High</td>\n",
       "      <td>a. = 0</td>\n",
       "      <td>a. Low</td>\n",
       "      <td>c. 13</td>\n",
       "      <td>c. Bachelors</td>\n",
       "      <td>b. income</td>\n",
       "      <td>b. 26-30 &amp; 71-100</td>\n",
       "      <td>train</td>\n",
       "      <td>0</td>\n",
       "    </tr>\n",
       "    <tr>\n",
       "      <th>...</th>\n",
       "      <td>...</td>\n",
       "      <td>...</td>\n",
       "      <td>...</td>\n",
       "      <td>...</td>\n",
       "      <td>...</td>\n",
       "      <td>...</td>\n",
       "      <td>...</td>\n",
       "      <td>...</td>\n",
       "      <td>...</td>\n",
       "      <td>...</td>\n",
       "      <td>...</td>\n",
       "    </tr>\n",
       "    <tr>\n",
       "      <th>48837</th>\n",
       "      <td>b. 31-40</td>\n",
       "      <td>e. High</td>\n",
       "      <td>b. Mid</td>\n",
       "      <td>a. = 0</td>\n",
       "      <td>b. Mid</td>\n",
       "      <td>c. 13</td>\n",
       "      <td>c. Bachelors</td>\n",
       "      <td>b. income</td>\n",
       "      <td>d. 36-40 &amp; 56-60</td>\n",
       "      <td>test</td>\n",
       "      <td>0</td>\n",
       "    </tr>\n",
       "    <tr>\n",
       "      <th>48838</th>\n",
       "      <td>b. 31-40</td>\n",
       "      <td>b. Mid - Low</td>\n",
       "      <td>a. Low</td>\n",
       "      <td>a. = 0</td>\n",
       "      <td>b. Mid</td>\n",
       "      <td>b. 9-12</td>\n",
       "      <td>b. Mid</td>\n",
       "      <td>a. no income</td>\n",
       "      <td>c. 31-35 &amp; 61-70</td>\n",
       "      <td>test</td>\n",
       "      <td>0</td>\n",
       "    </tr>\n",
       "    <tr>\n",
       "      <th>48839</th>\n",
       "      <td>d. 41-50 &amp; 61-70</td>\n",
       "      <td>e. High</td>\n",
       "      <td>c. High</td>\n",
       "      <td>a. = 0</td>\n",
       "      <td>c. High</td>\n",
       "      <td>c. 13</td>\n",
       "      <td>c. Bachelors</td>\n",
       "      <td>b. income</td>\n",
       "      <td>d. 36-40 &amp; 56-60</td>\n",
       "      <td>test</td>\n",
       "      <td>0</td>\n",
       "    </tr>\n",
       "    <tr>\n",
       "      <th>48840</th>\n",
       "      <td>b. 31-40</td>\n",
       "      <td>b. Mid - Low</td>\n",
       "      <td>a. Low</td>\n",
       "      <td>c. &gt; 0</td>\n",
       "      <td>c. High</td>\n",
       "      <td>c. 13</td>\n",
       "      <td>c. Bachelors</td>\n",
       "      <td>b. income</td>\n",
       "      <td>e. 40-55</td>\n",
       "      <td>test</td>\n",
       "      <td>0</td>\n",
       "    </tr>\n",
       "    <tr>\n",
       "      <th>48841</th>\n",
       "      <td>e. 51-60</td>\n",
       "      <td>e. High</td>\n",
       "      <td>c. High</td>\n",
       "      <td>a. = 0</td>\n",
       "      <td>c. High</td>\n",
       "      <td>c. 13</td>\n",
       "      <td>c. Bachelors</td>\n",
       "      <td>b. income</td>\n",
       "      <td>c. 31-35 &amp; 61-70</td>\n",
       "      <td>test</td>\n",
       "      <td>1</td>\n",
       "    </tr>\n",
       "  </tbody>\n",
       "</table>\n",
       "<p>48842 rows × 11 columns</p>\n",
       "</div>"
      ],
      "text/plain": [
       "      hours_per_week_bin occupation_bin  msr_bin capital_gl_bin race_sex_bin  \\\n",
       "0               b. 31-40   b. Mid - Low   b. Mid         c. > 0      c. High   \n",
       "1                a. 0-30        e. High  c. High         a. = 0      c. High   \n",
       "2               b. 31-40         a. Low   b. Mid         a. = 0      c. High   \n",
       "3               b. 31-40         a. Low  c. High         a. = 0       b. Mid   \n",
       "4               b. 31-40        e. High  c. High         a. = 0       a. Low   \n",
       "...                  ...            ...      ...            ...          ...   \n",
       "48837           b. 31-40        e. High   b. Mid         a. = 0       b. Mid   \n",
       "48838           b. 31-40   b. Mid - Low   a. Low         a. = 0       b. Mid   \n",
       "48839   d. 41-50 & 61-70        e. High  c. High         a. = 0      c. High   \n",
       "48840           b. 31-40   b. Mid - Low   a. Low         c. > 0      c. High   \n",
       "48841           e. 51-60        e. High  c. High         a. = 0      c. High   \n",
       "\n",
       "      education_num_bin education_bin workclass_bin            age_bin   flag  \\\n",
       "0                 c. 13  c. Bachelors     b. income   d. 36-40 & 56-60  train   \n",
       "1                 c. 13  c. Bachelors     b. income           e. 40-55  train   \n",
       "2               b. 9-12        b. Mid     b. income   d. 36-40 & 56-60  train   \n",
       "3                a. 0-8        a. Low     b. income           e. 40-55  train   \n",
       "4                 c. 13  c. Bachelors     b. income  b. 26-30 & 71-100  train   \n",
       "...                 ...           ...           ...                ...    ...   \n",
       "48837             c. 13  c. Bachelors     b. income   d. 36-40 & 56-60   test   \n",
       "48838           b. 9-12        b. Mid  a. no income   c. 31-35 & 61-70   test   \n",
       "48839             c. 13  c. Bachelors     b. income   d. 36-40 & 56-60   test   \n",
       "48840             c. 13  c. Bachelors     b. income           e. 40-55   test   \n",
       "48841             c. 13  c. Bachelors     b. income   c. 31-35 & 61-70   test   \n",
       "\n",
       "       y  \n",
       "0      0  \n",
       "1      0  \n",
       "2      0  \n",
       "3      0  \n",
       "4      0  \n",
       "...   ..  \n",
       "48837  0  \n",
       "48838  0  \n",
       "48839  0  \n",
       "48840  0  \n",
       "48841  1  \n",
       "\n",
       "[48842 rows x 11 columns]"
      ]
     },
     "execution_count": 2,
     "metadata": {},
     "output_type": "execute_result"
    }
   ],
   "source": [
    "#Data Source:\n",
    "df=pd.read_csv('https://github.com/ArinB/MSBA-CA-03-Decision-Trees/blob/master/census_data.csv?raw=true')\n",
    "df"
   ]
  },
  {
   "cell_type": "code",
   "execution_count": 3,
   "id": "d5a6c721",
   "metadata": {},
   "outputs": [
    {
     "data": {
      "text/html": [
       "<div>\n",
       "<style scoped>\n",
       "    .dataframe tbody tr th:only-of-type {\n",
       "        vertical-align: middle;\n",
       "    }\n",
       "\n",
       "    .dataframe tbody tr th {\n",
       "        vertical-align: top;\n",
       "    }\n",
       "\n",
       "    .dataframe thead th {\n",
       "        text-align: right;\n",
       "    }\n",
       "</style>\n",
       "<table border=\"1\" class=\"dataframe\">\n",
       "  <thead>\n",
       "    <tr style=\"text-align: right;\">\n",
       "      <th></th>\n",
       "      <th>hours_per_week_bin</th>\n",
       "      <th>occupation_bin</th>\n",
       "      <th>msr_bin</th>\n",
       "      <th>capital_gl_bin</th>\n",
       "      <th>race_sex_bin</th>\n",
       "      <th>education_num_bin</th>\n",
       "      <th>education_bin</th>\n",
       "      <th>workclass_bin</th>\n",
       "      <th>age_bin</th>\n",
       "      <th>flag</th>\n",
       "      <th>y</th>\n",
       "      <th>hours_per_week_bin_1</th>\n",
       "      <th>occupation_bin_1</th>\n",
       "      <th>msr_bin_1</th>\n",
       "      <th>capital_gl_bin_1</th>\n",
       "      <th>race_sex_bin_1</th>\n",
       "      <th>education_num_bin_1</th>\n",
       "      <th>education_bin_1</th>\n",
       "      <th>workclass_bin_1</th>\n",
       "      <th>age_bin_1</th>\n",
       "    </tr>\n",
       "  </thead>\n",
       "  <tbody>\n",
       "    <tr>\n",
       "      <th>0</th>\n",
       "      <td>b. 31-40</td>\n",
       "      <td>b. Mid - Low</td>\n",
       "      <td>b. Mid</td>\n",
       "      <td>c. &gt; 0</td>\n",
       "      <td>c. High</td>\n",
       "      <td>c. 13</td>\n",
       "      <td>c. Bachelors</td>\n",
       "      <td>b. income</td>\n",
       "      <td>d. 36-40 &amp; 56-60</td>\n",
       "      <td>train</td>\n",
       "      <td>0</td>\n",
       "      <td>b</td>\n",
       "      <td>b</td>\n",
       "      <td>b</td>\n",
       "      <td>c</td>\n",
       "      <td>c</td>\n",
       "      <td>c</td>\n",
       "      <td>c</td>\n",
       "      <td>b</td>\n",
       "      <td>d</td>\n",
       "    </tr>\n",
       "    <tr>\n",
       "      <th>1</th>\n",
       "      <td>a. 0-30</td>\n",
       "      <td>e. High</td>\n",
       "      <td>c. High</td>\n",
       "      <td>a. = 0</td>\n",
       "      <td>c. High</td>\n",
       "      <td>c. 13</td>\n",
       "      <td>c. Bachelors</td>\n",
       "      <td>b. income</td>\n",
       "      <td>e. 40-55</td>\n",
       "      <td>train</td>\n",
       "      <td>0</td>\n",
       "      <td>a</td>\n",
       "      <td>e</td>\n",
       "      <td>c</td>\n",
       "      <td>a</td>\n",
       "      <td>c</td>\n",
       "      <td>c</td>\n",
       "      <td>c</td>\n",
       "      <td>b</td>\n",
       "      <td>e</td>\n",
       "    </tr>\n",
       "    <tr>\n",
       "      <th>2</th>\n",
       "      <td>b. 31-40</td>\n",
       "      <td>a. Low</td>\n",
       "      <td>b. Mid</td>\n",
       "      <td>a. = 0</td>\n",
       "      <td>c. High</td>\n",
       "      <td>b. 9-12</td>\n",
       "      <td>b. Mid</td>\n",
       "      <td>b. income</td>\n",
       "      <td>d. 36-40 &amp; 56-60</td>\n",
       "      <td>train</td>\n",
       "      <td>0</td>\n",
       "      <td>b</td>\n",
       "      <td>a</td>\n",
       "      <td>b</td>\n",
       "      <td>a</td>\n",
       "      <td>c</td>\n",
       "      <td>b</td>\n",
       "      <td>b</td>\n",
       "      <td>b</td>\n",
       "      <td>d</td>\n",
       "    </tr>\n",
       "    <tr>\n",
       "      <th>3</th>\n",
       "      <td>b. 31-40</td>\n",
       "      <td>a. Low</td>\n",
       "      <td>c. High</td>\n",
       "      <td>a. = 0</td>\n",
       "      <td>b. Mid</td>\n",
       "      <td>a. 0-8</td>\n",
       "      <td>a. Low</td>\n",
       "      <td>b. income</td>\n",
       "      <td>e. 40-55</td>\n",
       "      <td>train</td>\n",
       "      <td>0</td>\n",
       "      <td>b</td>\n",
       "      <td>a</td>\n",
       "      <td>c</td>\n",
       "      <td>a</td>\n",
       "      <td>b</td>\n",
       "      <td>a</td>\n",
       "      <td>a</td>\n",
       "      <td>b</td>\n",
       "      <td>e</td>\n",
       "    </tr>\n",
       "    <tr>\n",
       "      <th>4</th>\n",
       "      <td>b. 31-40</td>\n",
       "      <td>e. High</td>\n",
       "      <td>c. High</td>\n",
       "      <td>a. = 0</td>\n",
       "      <td>a. Low</td>\n",
       "      <td>c. 13</td>\n",
       "      <td>c. Bachelors</td>\n",
       "      <td>b. income</td>\n",
       "      <td>b. 26-30 &amp; 71-100</td>\n",
       "      <td>train</td>\n",
       "      <td>0</td>\n",
       "      <td>b</td>\n",
       "      <td>e</td>\n",
       "      <td>c</td>\n",
       "      <td>a</td>\n",
       "      <td>a</td>\n",
       "      <td>c</td>\n",
       "      <td>c</td>\n",
       "      <td>b</td>\n",
       "      <td>b</td>\n",
       "    </tr>\n",
       "  </tbody>\n",
       "</table>\n",
       "</div>"
      ],
      "text/plain": [
       "  hours_per_week_bin occupation_bin  msr_bin capital_gl_bin race_sex_bin  \\\n",
       "0           b. 31-40   b. Mid - Low   b. Mid         c. > 0      c. High   \n",
       "1            a. 0-30        e. High  c. High         a. = 0      c. High   \n",
       "2           b. 31-40         a. Low   b. Mid         a. = 0      c. High   \n",
       "3           b. 31-40         a. Low  c. High         a. = 0       b. Mid   \n",
       "4           b. 31-40        e. High  c. High         a. = 0       a. Low   \n",
       "\n",
       "  education_num_bin education_bin workclass_bin            age_bin   flag  y  \\\n",
       "0             c. 13  c. Bachelors     b. income   d. 36-40 & 56-60  train  0   \n",
       "1             c. 13  c. Bachelors     b. income           e. 40-55  train  0   \n",
       "2           b. 9-12        b. Mid     b. income   d. 36-40 & 56-60  train  0   \n",
       "3            a. 0-8        a. Low     b. income           e. 40-55  train  0   \n",
       "4             c. 13  c. Bachelors     b. income  b. 26-30 & 71-100  train  0   \n",
       "\n",
       "  hours_per_week_bin_1 occupation_bin_1 msr_bin_1 capital_gl_bin_1  \\\n",
       "0                    b                b         b                c   \n",
       "1                    a                e         c                a   \n",
       "2                    b                a         b                a   \n",
       "3                    b                a         c                a   \n",
       "4                    b                e         c                a   \n",
       "\n",
       "  race_sex_bin_1 education_num_bin_1 education_bin_1 workclass_bin_1 age_bin_1  \n",
       "0              c                   c               c               b         d  \n",
       "1              c                   c               c               b         e  \n",
       "2              c                   b               b               b         d  \n",
       "3              b                   a               a               b         e  \n",
       "4              a                   c               c               b         b  "
      ]
     },
     "execution_count": 3,
     "metadata": {},
     "output_type": "execute_result"
    }
   ],
   "source": [
    "df['hours_per_week_bin_1']=df['hours_per_week_bin'].apply(lambda x:x.split('.')[0])\n",
    "df['occupation_bin_1']=df['occupation_bin'].apply(lambda x:x.split('.')[0])\n",
    "df['msr_bin_1']=df['msr_bin'].apply(lambda x:x.split('.')[0])\n",
    "df['capital_gl_bin_1']=df['capital_gl_bin'].apply(lambda x:x.split('.')[0])\n",
    "df['race_sex_bin_1']=df['race_sex_bin'].apply(lambda x:x.split('.')[0])\n",
    "df['education_num_bin_1']=df['education_num_bin'].apply(lambda x:x.split('.')[0])\n",
    "df['education_bin_1']=df['education_bin'].apply(lambda x:x.split('.')[0])\n",
    "df['workclass_bin_1']=df['workclass_bin'].apply(lambda x:x.split('.')[0])\n",
    "df['age_bin_1']=df['age_bin'].apply(lambda x:x.split('.')[0])\n",
    "df.head()"
   ]
  },
  {
   "cell_type": "code",
   "execution_count": 4,
   "id": "ac327143",
   "metadata": {},
   "outputs": [
    {
     "data": {
      "text/html": [
       "<div>\n",
       "<style scoped>\n",
       "    .dataframe tbody tr th:only-of-type {\n",
       "        vertical-align: middle;\n",
       "    }\n",
       "\n",
       "    .dataframe tbody tr th {\n",
       "        vertical-align: top;\n",
       "    }\n",
       "\n",
       "    .dataframe thead th {\n",
       "        text-align: right;\n",
       "    }\n",
       "</style>\n",
       "<table border=\"1\" class=\"dataframe\">\n",
       "  <thead>\n",
       "    <tr style=\"text-align: right;\">\n",
       "      <th></th>\n",
       "      <th>hours_per_week_bin</th>\n",
       "      <th>occupation_bin</th>\n",
       "      <th>msr_bin</th>\n",
       "      <th>capital_gl_bin</th>\n",
       "      <th>race_sex_bin</th>\n",
       "      <th>education_num_bin</th>\n",
       "      <th>education_bin</th>\n",
       "      <th>workclass_bin</th>\n",
       "      <th>age_bin</th>\n",
       "      <th>flag</th>\n",
       "      <th>...</th>\n",
       "      <th>age_bin_1</th>\n",
       "      <th>hours_per_week_bin_c</th>\n",
       "      <th>occupation_bin_c</th>\n",
       "      <th>msr_bin_c</th>\n",
       "      <th>capital_gl_bin_c</th>\n",
       "      <th>race_sex_bin_c</th>\n",
       "      <th>workclass_bin_c</th>\n",
       "      <th>education_num_bin_c</th>\n",
       "      <th>education_bin_c</th>\n",
       "      <th>age_bin_c</th>\n",
       "    </tr>\n",
       "  </thead>\n",
       "  <tbody>\n",
       "    <tr>\n",
       "      <th>0</th>\n",
       "      <td>b. 31-40</td>\n",
       "      <td>b. Mid - Low</td>\n",
       "      <td>b. Mid</td>\n",
       "      <td>c. &gt; 0</td>\n",
       "      <td>c. High</td>\n",
       "      <td>c. 13</td>\n",
       "      <td>c. Bachelors</td>\n",
       "      <td>b. income</td>\n",
       "      <td>d. 36-40 &amp; 56-60</td>\n",
       "      <td>train</td>\n",
       "      <td>...</td>\n",
       "      <td>d</td>\n",
       "      <td>1</td>\n",
       "      <td>1</td>\n",
       "      <td>1</td>\n",
       "      <td>2</td>\n",
       "      <td>2</td>\n",
       "      <td>1</td>\n",
       "      <td>2</td>\n",
       "      <td>2</td>\n",
       "      <td>3</td>\n",
       "    </tr>\n",
       "    <tr>\n",
       "      <th>1</th>\n",
       "      <td>a. 0-30</td>\n",
       "      <td>e. High</td>\n",
       "      <td>c. High</td>\n",
       "      <td>a. = 0</td>\n",
       "      <td>c. High</td>\n",
       "      <td>c. 13</td>\n",
       "      <td>c. Bachelors</td>\n",
       "      <td>b. income</td>\n",
       "      <td>e. 40-55</td>\n",
       "      <td>train</td>\n",
       "      <td>...</td>\n",
       "      <td>e</td>\n",
       "      <td>0</td>\n",
       "      <td>4</td>\n",
       "      <td>2</td>\n",
       "      <td>0</td>\n",
       "      <td>2</td>\n",
       "      <td>1</td>\n",
       "      <td>2</td>\n",
       "      <td>2</td>\n",
       "      <td>4</td>\n",
       "    </tr>\n",
       "    <tr>\n",
       "      <th>2</th>\n",
       "      <td>b. 31-40</td>\n",
       "      <td>a. Low</td>\n",
       "      <td>b. Mid</td>\n",
       "      <td>a. = 0</td>\n",
       "      <td>c. High</td>\n",
       "      <td>b. 9-12</td>\n",
       "      <td>b. Mid</td>\n",
       "      <td>b. income</td>\n",
       "      <td>d. 36-40 &amp; 56-60</td>\n",
       "      <td>train</td>\n",
       "      <td>...</td>\n",
       "      <td>d</td>\n",
       "      <td>1</td>\n",
       "      <td>0</td>\n",
       "      <td>1</td>\n",
       "      <td>0</td>\n",
       "      <td>2</td>\n",
       "      <td>1</td>\n",
       "      <td>1</td>\n",
       "      <td>1</td>\n",
       "      <td>3</td>\n",
       "    </tr>\n",
       "    <tr>\n",
       "      <th>3</th>\n",
       "      <td>b. 31-40</td>\n",
       "      <td>a. Low</td>\n",
       "      <td>c. High</td>\n",
       "      <td>a. = 0</td>\n",
       "      <td>b. Mid</td>\n",
       "      <td>a. 0-8</td>\n",
       "      <td>a. Low</td>\n",
       "      <td>b. income</td>\n",
       "      <td>e. 40-55</td>\n",
       "      <td>train</td>\n",
       "      <td>...</td>\n",
       "      <td>e</td>\n",
       "      <td>1</td>\n",
       "      <td>0</td>\n",
       "      <td>2</td>\n",
       "      <td>0</td>\n",
       "      <td>1</td>\n",
       "      <td>1</td>\n",
       "      <td>0</td>\n",
       "      <td>0</td>\n",
       "      <td>4</td>\n",
       "    </tr>\n",
       "    <tr>\n",
       "      <th>4</th>\n",
       "      <td>b. 31-40</td>\n",
       "      <td>e. High</td>\n",
       "      <td>c. High</td>\n",
       "      <td>a. = 0</td>\n",
       "      <td>a. Low</td>\n",
       "      <td>c. 13</td>\n",
       "      <td>c. Bachelors</td>\n",
       "      <td>b. income</td>\n",
       "      <td>b. 26-30 &amp; 71-100</td>\n",
       "      <td>train</td>\n",
       "      <td>...</td>\n",
       "      <td>b</td>\n",
       "      <td>1</td>\n",
       "      <td>4</td>\n",
       "      <td>2</td>\n",
       "      <td>0</td>\n",
       "      <td>0</td>\n",
       "      <td>1</td>\n",
       "      <td>2</td>\n",
       "      <td>2</td>\n",
       "      <td>1</td>\n",
       "    </tr>\n",
       "    <tr>\n",
       "      <th>...</th>\n",
       "      <td>...</td>\n",
       "      <td>...</td>\n",
       "      <td>...</td>\n",
       "      <td>...</td>\n",
       "      <td>...</td>\n",
       "      <td>...</td>\n",
       "      <td>...</td>\n",
       "      <td>...</td>\n",
       "      <td>...</td>\n",
       "      <td>...</td>\n",
       "      <td>...</td>\n",
       "      <td>...</td>\n",
       "      <td>...</td>\n",
       "      <td>...</td>\n",
       "      <td>...</td>\n",
       "      <td>...</td>\n",
       "      <td>...</td>\n",
       "      <td>...</td>\n",
       "      <td>...</td>\n",
       "      <td>...</td>\n",
       "      <td>...</td>\n",
       "    </tr>\n",
       "    <tr>\n",
       "      <th>48837</th>\n",
       "      <td>b. 31-40</td>\n",
       "      <td>e. High</td>\n",
       "      <td>b. Mid</td>\n",
       "      <td>a. = 0</td>\n",
       "      <td>b. Mid</td>\n",
       "      <td>c. 13</td>\n",
       "      <td>c. Bachelors</td>\n",
       "      <td>b. income</td>\n",
       "      <td>d. 36-40 &amp; 56-60</td>\n",
       "      <td>test</td>\n",
       "      <td>...</td>\n",
       "      <td>d</td>\n",
       "      <td>1</td>\n",
       "      <td>4</td>\n",
       "      <td>1</td>\n",
       "      <td>0</td>\n",
       "      <td>1</td>\n",
       "      <td>1</td>\n",
       "      <td>2</td>\n",
       "      <td>2</td>\n",
       "      <td>3</td>\n",
       "    </tr>\n",
       "    <tr>\n",
       "      <th>48838</th>\n",
       "      <td>b. 31-40</td>\n",
       "      <td>b. Mid - Low</td>\n",
       "      <td>a. Low</td>\n",
       "      <td>a. = 0</td>\n",
       "      <td>b. Mid</td>\n",
       "      <td>b. 9-12</td>\n",
       "      <td>b. Mid</td>\n",
       "      <td>a. no income</td>\n",
       "      <td>c. 31-35 &amp; 61-70</td>\n",
       "      <td>test</td>\n",
       "      <td>...</td>\n",
       "      <td>c</td>\n",
       "      <td>1</td>\n",
       "      <td>1</td>\n",
       "      <td>0</td>\n",
       "      <td>0</td>\n",
       "      <td>1</td>\n",
       "      <td>0</td>\n",
       "      <td>1</td>\n",
       "      <td>1</td>\n",
       "      <td>2</td>\n",
       "    </tr>\n",
       "    <tr>\n",
       "      <th>48839</th>\n",
       "      <td>d. 41-50 &amp; 61-70</td>\n",
       "      <td>e. High</td>\n",
       "      <td>c. High</td>\n",
       "      <td>a. = 0</td>\n",
       "      <td>c. High</td>\n",
       "      <td>c. 13</td>\n",
       "      <td>c. Bachelors</td>\n",
       "      <td>b. income</td>\n",
       "      <td>d. 36-40 &amp; 56-60</td>\n",
       "      <td>test</td>\n",
       "      <td>...</td>\n",
       "      <td>d</td>\n",
       "      <td>3</td>\n",
       "      <td>4</td>\n",
       "      <td>2</td>\n",
       "      <td>0</td>\n",
       "      <td>2</td>\n",
       "      <td>1</td>\n",
       "      <td>2</td>\n",
       "      <td>2</td>\n",
       "      <td>3</td>\n",
       "    </tr>\n",
       "    <tr>\n",
       "      <th>48840</th>\n",
       "      <td>b. 31-40</td>\n",
       "      <td>b. Mid - Low</td>\n",
       "      <td>a. Low</td>\n",
       "      <td>c. &gt; 0</td>\n",
       "      <td>c. High</td>\n",
       "      <td>c. 13</td>\n",
       "      <td>c. Bachelors</td>\n",
       "      <td>b. income</td>\n",
       "      <td>e. 40-55</td>\n",
       "      <td>test</td>\n",
       "      <td>...</td>\n",
       "      <td>e</td>\n",
       "      <td>1</td>\n",
       "      <td>1</td>\n",
       "      <td>0</td>\n",
       "      <td>2</td>\n",
       "      <td>2</td>\n",
       "      <td>1</td>\n",
       "      <td>2</td>\n",
       "      <td>2</td>\n",
       "      <td>4</td>\n",
       "    </tr>\n",
       "    <tr>\n",
       "      <th>48841</th>\n",
       "      <td>e. 51-60</td>\n",
       "      <td>e. High</td>\n",
       "      <td>c. High</td>\n",
       "      <td>a. = 0</td>\n",
       "      <td>c. High</td>\n",
       "      <td>c. 13</td>\n",
       "      <td>c. Bachelors</td>\n",
       "      <td>b. income</td>\n",
       "      <td>c. 31-35 &amp; 61-70</td>\n",
       "      <td>test</td>\n",
       "      <td>...</td>\n",
       "      <td>c</td>\n",
       "      <td>4</td>\n",
       "      <td>4</td>\n",
       "      <td>2</td>\n",
       "      <td>0</td>\n",
       "      <td>2</td>\n",
       "      <td>1</td>\n",
       "      <td>2</td>\n",
       "      <td>2</td>\n",
       "      <td>2</td>\n",
       "    </tr>\n",
       "  </tbody>\n",
       "</table>\n",
       "<p>48842 rows × 29 columns</p>\n",
       "</div>"
      ],
      "text/plain": [
       "      hours_per_week_bin occupation_bin  msr_bin capital_gl_bin race_sex_bin  \\\n",
       "0               b. 31-40   b. Mid - Low   b. Mid         c. > 0      c. High   \n",
       "1                a. 0-30        e. High  c. High         a. = 0      c. High   \n",
       "2               b. 31-40         a. Low   b. Mid         a. = 0      c. High   \n",
       "3               b. 31-40         a. Low  c. High         a. = 0       b. Mid   \n",
       "4               b. 31-40        e. High  c. High         a. = 0       a. Low   \n",
       "...                  ...            ...      ...            ...          ...   \n",
       "48837           b. 31-40        e. High   b. Mid         a. = 0       b. Mid   \n",
       "48838           b. 31-40   b. Mid - Low   a. Low         a. = 0       b. Mid   \n",
       "48839   d. 41-50 & 61-70        e. High  c. High         a. = 0      c. High   \n",
       "48840           b. 31-40   b. Mid - Low   a. Low         c. > 0      c. High   \n",
       "48841           e. 51-60        e. High  c. High         a. = 0      c. High   \n",
       "\n",
       "      education_num_bin education_bin workclass_bin            age_bin   flag  \\\n",
       "0                 c. 13  c. Bachelors     b. income   d. 36-40 & 56-60  train   \n",
       "1                 c. 13  c. Bachelors     b. income           e. 40-55  train   \n",
       "2               b. 9-12        b. Mid     b. income   d. 36-40 & 56-60  train   \n",
       "3                a. 0-8        a. Low     b. income           e. 40-55  train   \n",
       "4                 c. 13  c. Bachelors     b. income  b. 26-30 & 71-100  train   \n",
       "...                 ...           ...           ...                ...    ...   \n",
       "48837             c. 13  c. Bachelors     b. income   d. 36-40 & 56-60   test   \n",
       "48838           b. 9-12        b. Mid  a. no income   c. 31-35 & 61-70   test   \n",
       "48839             c. 13  c. Bachelors     b. income   d. 36-40 & 56-60   test   \n",
       "48840             c. 13  c. Bachelors     b. income           e. 40-55   test   \n",
       "48841             c. 13  c. Bachelors     b. income   c. 31-35 & 61-70   test   \n",
       "\n",
       "       ...  age_bin_1 hours_per_week_bin_c occupation_bin_c msr_bin_c  \\\n",
       "0      ...          d                    1                1         1   \n",
       "1      ...          e                    0                4         2   \n",
       "2      ...          d                    1                0         1   \n",
       "3      ...          e                    1                0         2   \n",
       "4      ...          b                    1                4         2   \n",
       "...    ...        ...                  ...              ...       ...   \n",
       "48837  ...          d                    1                4         1   \n",
       "48838  ...          c                    1                1         0   \n",
       "48839  ...          d                    3                4         2   \n",
       "48840  ...          e                    1                1         0   \n",
       "48841  ...          c                    4                4         2   \n",
       "\n",
       "      capital_gl_bin_c race_sex_bin_c workclass_bin_c education_num_bin_c  \\\n",
       "0                    2              2               1                   2   \n",
       "1                    0              2               1                   2   \n",
       "2                    0              2               1                   1   \n",
       "3                    0              1               1                   0   \n",
       "4                    0              0               1                   2   \n",
       "...                ...            ...             ...                 ...   \n",
       "48837                0              1               1                   2   \n",
       "48838                0              1               0                   1   \n",
       "48839                0              2               1                   2   \n",
       "48840                2              2               1                   2   \n",
       "48841                0              2               1                   2   \n",
       "\n",
       "      education_bin_c age_bin_c  \n",
       "0                   2         3  \n",
       "1                   2         4  \n",
       "2                   1         3  \n",
       "3                   0         4  \n",
       "4                   2         1  \n",
       "...               ...       ...  \n",
       "48837               2         3  \n",
       "48838               1         2  \n",
       "48839               2         3  \n",
       "48840               2         4  \n",
       "48841               2         2  \n",
       "\n",
       "[48842 rows x 29 columns]"
      ]
     },
     "execution_count": 4,
     "metadata": {},
     "output_type": "execute_result"
    }
   ],
   "source": [
    "df['hours_per_week_bin_1']=df['hours_per_week_bin_1'].astype('category')\n",
    "df['hours_per_week_bin_c']=df['hours_per_week_bin_1'].cat.codes\n",
    "df['occupation_bin_1']=df['occupation_bin_1'].astype('category')\n",
    "df['occupation_bin_c']=df['occupation_bin_1'].cat.codes\n",
    "df['msr_bin_1']=df['msr_bin_1'].astype('category')\n",
    "df['msr_bin_c']=df['msr_bin_1'].cat.codes\n",
    "df['capital_gl_bin_1']=df['capital_gl_bin_1'].astype('category')\n",
    "df['capital_gl_bin_c']=df['capital_gl_bin_1'].cat.codes\n",
    "df['race_sex_bin_1']=df['race_sex_bin_1'].astype('category')\n",
    "df['race_sex_bin_c']=df['race_sex_bin_1'].cat.codes\n",
    "df['workclass_bin_1']=df['workclass_bin_1'].astype('category')\n",
    "df['workclass_bin_c']=df['workclass_bin_1'].cat.codes\n",
    "df['education_num_bin_1']=df['education_num_bin_1'].astype('category')\n",
    "df['education_num_bin_c']=df['education_num_bin_1'].cat.codes\n",
    "df['education_bin_1']=df['education_bin_1'].astype('category')\n",
    "df['education_bin_c']=df['education_bin_1'].cat.codes\n",
    "df['age_bin_1']=df['age_bin_1'].astype('category')\n",
    "df['age_bin_c']=df['age_bin_1'].cat.codes\n",
    "df"
   ]
  },
  {
   "cell_type": "code",
   "execution_count": 5,
   "id": "cf5f1a83",
   "metadata": {},
   "outputs": [],
   "source": [
    "train_data=df[df['flag']=='train']\n",
    "test_data=df[df['flag']=='test']"
   ]
  },
  {
   "cell_type": "code",
   "execution_count": 6,
   "id": "21fd332c",
   "metadata": {},
   "outputs": [],
   "source": [
    "X_train,y_train=train_data[['hours_per_week_bin_c','occupation_bin_c','msr_bin_c','capital_gl_bin_c','race_sex_bin_c','education_num_bin_c','education_bin_c','workclass_bin_c','age_bin_c']],train_data['y']\n",
    "X_test,y_test=test_data[['hours_per_week_bin_c','occupation_bin_c','msr_bin_c','capital_gl_bin_c','race_sex_bin_c','education_num_bin_c','education_bin_c','workclass_bin_c','age_bin_c']],test_data['y']"
   ]
  },
  {
   "cell_type": "markdown",
   "id": "017d0493",
   "metadata": {},
   "source": [
    "# 2. Finding Optimal Value of a key Ensemble Method Hyper\u0002parameter"
   ]
  },
  {
   "cell_type": "code",
   "execution_count": 7,
   "id": "940fe18a",
   "metadata": {},
   "outputs": [],
   "source": [
    "from sklearn.tree import DecisionTreeClassifier"
   ]
  },
  {
   "cell_type": "code",
   "execution_count": 8,
   "id": "3e664247",
   "metadata": {},
   "outputs": [],
   "source": [
    "from sklearn.metrics import confusion_matrix, classification_report, accuracy_score\n",
    "from sklearn.metrics import precision_score, recall_score,f1_score"
   ]
  },
  {
   "cell_type": "code",
   "execution_count": 9,
   "id": "81f78ae8",
   "metadata": {},
   "outputs": [
    {
     "data": {
      "text/plain": [
       "<AxesSubplot:>"
      ]
     },
     "execution_count": 9,
     "metadata": {},
     "output_type": "execute_result"
    },
    {
     "data": {
      "image/png": "[encoded data removed]",
      "text/plain": [
       "<Figure size 576x288 with 1 Axes>"
      ]
     },
     "metadata": {
      "needs_background": "light"
     },
     "output_type": "display_data"
    }
   ],
   "source": [
    "results = []\n",
    "max_depth_options = [2,4,6,8,10,12,14,16,18,20]\n",
    "for trees in max_depth_options:\n",
    "  model = DecisionTreeClassifier(max_depth=trees, random_state=101)\n",
    "  model.fit(X_train,y_train)\n",
    "  y_pred = model.predict(X_test)\n",
    "  accuracy = accuracy_score(y_test,y_pred)\n",
    "  results.append(accuracy)\n",
    "\n",
    "plt.figure(figsize=(8,4))\n",
    "pd.Series(results, max_depth_options).plot(color=\"darkred\",marker=\"o\")"
   ]
  },
  {
   "cell_type": "code",
   "execution_count": 10,
   "id": "b6083212",
   "metadata": {},
   "outputs": [],
   "source": [
    "from sklearn.metrics import roc_auc_score"
   ]
  },
  {
   "cell_type": "code",
   "execution_count": 11,
   "id": "161d03ed",
   "metadata": {},
   "outputs": [],
   "source": [
    "auc_result = []\n",
    "\n",
    "max_depth_options = [2,4,6,8,10,12,14,16,18,20]\n",
    "\n",
    "\n",
    "for i in max_depth_options:\n",
    "    model = DecisionTreeClassifier(max_depth=i,random_state=101)\n",
    "    model.fit(X_train,y_train)\n",
    "    y_prob = model.predict_proba(X_test)[:, 1]\n",
    "    auc = roc_auc_score(y_test, y_prob)\n",
    "    auc_result.append(auc)"
   ]
  },
  {
   "cell_type": "code",
   "execution_count": 12,
   "id": "bc219a26",
   "metadata": {},
   "outputs": [
    {
     "data": {
      "text/plain": [
       "<AxesSubplot:>"
      ]
     },
     "execution_count": 12,
     "metadata": {},
     "output_type": "execute_result"
    },
    {
     "data": {
      "image/png": "[encoded data removed]",
      "text/plain": [
       "<Figure size 576x288 with 1 Axes>"
      ]
     },
     "metadata": {
      "needs_background": "light"
     },
     "output_type": "display_data"
    }
   ],
   "source": [
    "plt.figure(figsize=(8,4))\n",
    "pd.Series(auc_result, max_depth_options).plot(color=\"darkred\",marker=\"o\")"
   ]
  },
  {
   "cell_type": "markdown",
   "id": "1baeb1b2",
   "metadata": {},
   "source": [
    "# 3. Building a Random Forest Model"
   ]
  },
  {
   "cell_type": "code",
   "execution_count": 13,
   "id": "68af9133",
   "metadata": {},
   "outputs": [],
   "source": [
    "from sklearn.ensemble import RandomForestClassifier"
   ]
  },
  {
   "cell_type": "code",
   "execution_count": 14,
   "id": "01c85fc1",
   "metadata": {},
   "outputs": [
    {
     "data": {
      "text/plain": [
       "<AxesSubplot:>"
      ]
     },
     "execution_count": 14,
     "metadata": {},
     "output_type": "execute_result"
    },
    {
     "data": {
      "image/png": "[encoded data removed]",
      "text/plain": [
       "<Figure size 576x288 with 1 Axes>"
      ]
     },
     "metadata": {
      "needs_background": "light"
     },
     "output_type": "display_data"
    }
   ],
   "source": [
    "RD_Accuracy_results = []\n",
    "n_estimators = [50,100,150,200,250,300,350,400,450,500]\n",
    "for trees in n_estimators:\n",
    "  model = RandomForestClassifier(n_estimators=trees, random_state=101)\n",
    "  model.fit(X_train,y_train)\n",
    "  y_pred = model.predict(X_test)\n",
    "  accuracy = accuracy_score(y_test,y_pred)\n",
    "  RD_Accuracy_results.append(accuracy)\n",
    "\n",
    "plt.figure(figsize=(8,4))\n",
    "pd.Series(RD_Accuracy_results, n_estimators).plot(color=\"darkred\",marker=\"o\")"
   ]
  },
  {
   "cell_type": "code",
   "execution_count": 15,
   "id": "0744c2e6",
   "metadata": {},
   "outputs": [],
   "source": [
    "RD_auc_result = []\n",
    "n_estimators = [50,100,150,200,250,300,350,400,450,500]\n",
    "\n",
    "for i in n_estimators:\n",
    "    model = RandomForestClassifier(n_estimators=i,random_state=101)\n",
    "    model.fit(X_train,y_train)\n",
    "    y_prob = model.predict_proba(X_test)[:, 1]\n",
    "    auc = roc_auc_score(y_test, y_prob)\n",
    "    RD_auc_result.append(auc)"
   ]
  },
  {
   "cell_type": "code",
   "execution_count": 17,
   "id": "e10daf0b",
   "metadata": {},
   "outputs": [
    {
     "data": {
      "text/plain": [
       "<AxesSubplot:>"
      ]
     },
     "execution_count": 17,
     "metadata": {},
     "output_type": "execute_result"
    },
    {
     "data": {
      "image/png": "[encoded data removed]",
      "text/plain": [
       "<Figure size 576x288 with 1 Axes>"
      ]
     },
     "metadata": {
      "needs_background": "light"
     },
     "output_type": "display_data"
    }
   ],
   "source": [
    "plt.figure(figsize=(8,4))\n",
    "pd.Series(RD_auc_result, n_estimators).plot(color=\"darkred\",marker=\"o\")"
   ]
  },
  {
   "cell_type": "markdown",
   "id": "7d7d1ddd",
   "metadata": {},
   "source": [
    "# 1. Write your observations about the Classifier’s behavior with respect to the number of estimators:\n",
    "# The classifier's behavior it to evaluate the accuracy and the interference of dichotomies on each estimator"
   ]
  },
  {
   "cell_type": "markdown",
   "id": "37506137",
   "metadata": {},
   "source": [
    "# 2. Is there an optimal value of the estimator within the given range?\n",
    "# o.8377 on 300 in Accuracy and over 0.8812 on 360 in AUC"
   ]
  },
  {
   "cell_type": "markdown",
   "id": "e1fe7f38",
   "metadata": {},
   "source": [
    "# 4. Building AdaBoost, Gradient Boost, and XGB."
   ]
  },
  {
   "cell_type": "code",
   "execution_count": 18,
   "id": "de9633ca",
   "metadata": {},
   "outputs": [],
   "source": [
    "from sklearn.ensemble import AdaBoostClassifier"
   ]
  },
  {
   "cell_type": "code",
   "execution_count": 20,
   "id": "a05414b9",
   "metadata": {},
   "outputs": [
    {
     "data": {
      "text/plain": [
       "<AxesSubplot:>"
      ]
     },
     "execution_count": 20,
     "metadata": {},
     "output_type": "execute_result"
    },
    {
     "data": {
      "image/png": "[encoded data removed]",
      "text/plain": [
       "<Figure size 576x288 with 1 Axes>"
      ]
     },
     "metadata": {
      "needs_background": "light"
     },
     "output_type": "display_data"
    }
   ],
   "source": [
    "Ada_Accuracy_results = []\n",
    "n_estimators = [50,100,150,200,250,300,350,400,450,500]\n",
    "for trees in n_estimators:\n",
    "  model = AdaBoostClassifier(n_estimators=trees, random_state=101)\n",
    "  model.fit(X_train,y_train.values.ravel())\n",
    "  y_pred = model.predict(X_test)\n",
    "  accuracy = accuracy_score(y_test,y_pred)\n",
    "  Ada_Accuracy_results.append(accuracy)\n",
    "\n",
    "plt.figure(figsize=(8,4))\n",
    "pd.Series(Ada_Accuracy_results, n_estimators).plot(color=\"darkred\",marker=\"o\")"
   ]
  },
  {
   "cell_type": "code",
   "execution_count": 21,
   "id": "d91f42a2",
   "metadata": {},
   "outputs": [],
   "source": [
    "Ada_auc_result = []\n",
    "n_estimators = [50,100,150,200,250,300,350,400,450,500]\n",
    "\n",
    "for i in n_estimators:\n",
    "    model = AdaBoostClassifier(n_estimators=i,random_state=101)\n",
    "    model.fit(X_train,y_train.values.ravel())\n",
    "    y_prob = model.predict_proba(X_test)[:, 1]\n",
    "    auc = roc_auc_score(y_test, y_prob)\n",
    "    Ada_auc_result.append(auc)"
   ]
  },
  {
   "cell_type": "code",
   "execution_count": 22,
   "id": "6ec4e83d",
   "metadata": {},
   "outputs": [
    {
     "data": {
      "text/plain": [
       "<AxesSubplot:>"
      ]
     },
     "execution_count": 22,
     "metadata": {},
     "output_type": "execute_result"
    },
    {
     "data": {
      "image/png": "[encoded data removed]",
      "text/plain": [
       "<Figure size 576x288 with 1 Axes>"
      ]
     },
     "metadata": {
      "needs_background": "light"
     },
     "output_type": "display_data"
    }
   ],
   "source": [
    "plt.figure(figsize=(8,4))\n",
    "pd.Series(Ada_auc_result, n_estimators).plot(color=\"darkred\",marker=\"o\")"
   ]
  },
  {
   "cell_type": "code",
   "execution_count": 23,
   "id": "2834b888",
   "metadata": {},
   "outputs": [],
   "source": [
    "from sklearn.ensemble import GradientBoostingClassifier"
   ]
  },
  {
   "cell_type": "code",
   "execution_count": 25,
   "id": "17942d99",
   "metadata": {},
   "outputs": [
    {
     "data": {
      "text/plain": [
       "<AxesSubplot:>"
      ]
     },
     "execution_count": 25,
     "metadata": {},
     "output_type": "execute_result"
    },
    {
     "data": {
      "image/png": "[encoded data removed]",
      "text/plain": [
       "<Figure size 576x288 with 1 Axes>"
      ]
     },
     "metadata": {
      "needs_background": "light"
     },
     "output_type": "display_data"
    }
   ],
   "source": [
    "GB_Accuracy = []\n",
    "\n",
    "n_estimators = [50,100,150,200,250,300,350,400,450,500]\n",
    "\n",
    "for trees in n_estimators:\n",
    "  model = GradientBoostingClassifier(n_estimators=trees, random_state=101)\n",
    "  model.fit(X_train,y_train.values.ravel())\n",
    "  y_pred = model.predict(X_test)\n",
    "  accuracy = accuracy_score(y_test,y_pred)\n",
    "  GB_Accuracy.append(accuracy)\n",
    "\n",
    "plt.figure(figsize=(8,4))\n",
    "pd.Series(GB_Accuracy, n_estimators).plot(color=\"darkred\",marker=\"o\")"
   ]
  },
  {
   "cell_type": "code",
   "execution_count": 26,
   "id": "63048ac3",
   "metadata": {},
   "outputs": [
    {
     "data": {
      "text/plain": [
       "<AxesSubplot:>"
      ]
     },
     "execution_count": 26,
     "metadata": {},
     "output_type": "execute_result"
    },
    {
     "data": {
      "image/png": "[encoded data removed]",
      "text/plain": [
       "<Figure size 576x288 with 1 Axes>"
      ]
     },
     "metadata": {
      "needs_background": "light"
     },
     "output_type": "display_data"
    }
   ],
   "source": [
    "GB_auc = []\n",
    "\n",
    "n_estimators = [50,100,150,200,250,300,350,400,450,500]\n",
    "\n",
    "for i in n_estimators:\n",
    "    model = AdaBoostClassifier(n_estimators=i,random_state=101)\n",
    "    model.fit(X_train,y_train.values.ravel())\n",
    "    y_prob = model.predict_proba(X_test)[:, 1]\n",
    "    auc = roc_auc_score(y_test, y_prob)\n",
    "    GB_auc.append(auc)\n",
    "\n",
    "plt.figure(figsize=(8,4))\n",
    "pd.Series(GB_auc, n_estimators).plot(color=\"darkred\",marker=\"o\")"
   ]
  },
  {
   "cell_type": "code",
   "execution_count": 27,
   "id": "066ad417",
   "metadata": {},
   "outputs": [],
   "source": [
    "from xgboost import XGBClassifier as xgb"
   ]
  },
  {
   "cell_type": "code",
   "execution_count": 28,
   "id": "e6f24372",
   "metadata": {},
   "outputs": [
    {
     "data": {
      "text/plain": [
       "<AxesSubplot:>"
      ]
     },
     "execution_count": 28,
     "metadata": {},
     "output_type": "execute_result"
    },
    {
     "data": {
      "image/png": "[encoded data removed]",
      "text/plain": [
       "<Figure size 576x288 with 1 Axes>"
      ]
     },
     "metadata": {
      "needs_background": "light"
     },
     "output_type": "display_data"
    }
   ],
   "source": [
    "xgb_Accuracy = []\n",
    "\n",
    "n_estimators = [50,100,150,200,250,300,350,400,450,500]\n",
    "\n",
    "for trees in n_estimators:\n",
    "  model = xgb(n_estimators=trees, random_state=101)\n",
    "  model.fit(X_train,y_train.values.ravel())\n",
    "  y_pred = model.predict(X_test)\n",
    "  accuracy = accuracy_score(y_test,y_pred)\n",
    "  xgb_Accuracy.append(accuracy)\n",
    "\n",
    "plt.figure(figsize=(8,4))\n",
    "pd.Series(xgb_Accuracy, n_estimators).plot(color=\"darkred\",marker=\"o\")"
   ]
  },
  {
   "cell_type": "code",
   "execution_count": 29,
   "id": "a9e6afeb",
   "metadata": {},
   "outputs": [
    {
     "data": {
      "text/plain": [
       "<AxesSubplot:>"
      ]
     },
     "execution_count": 29,
     "metadata": {},
     "output_type": "execute_result"
    },
    {
     "data": {
      "image/png": "[encoded data removed]",
      "text/plain": [
       "<Figure size 576x288 with 1 Axes>"
      ]
     },
     "metadata": {
      "needs_background": "light"
     },
     "output_type": "display_data"
    }
   ],
   "source": [
    "xgb_auc = []\n",
    "\n",
    "n_estimators = [50,100,150,200,250,300,350,400,450,500]\n",
    "\n",
    "for i in n_estimators:\n",
    "    model = xgb(n_estimators=i,random_state=101)\n",
    "    model.fit(X_train,y_train.values.ravel())\n",
    "    y_prob = model.predict_proba(X_test)[:, 1]\n",
    "    auc = roc_auc_score(y_test, y_prob)\n",
    "    xgb_auc.append(auc)\n",
    "\n",
    "plt.figure(figsize=(8,4))\n",
    "pd.Series(xgb_auc, n_estimators).plot(color=\"darkred\",marker=\"o\")"
   ]
  },
  {
   "cell_type": "markdown",
   "id": "4a89379a",
   "metadata": {},
   "source": [
    "# 5. Compare Performance"
   ]
  },
  {
   "cell_type": "code",
   "execution_count": 30,
   "id": "1710e85b",
   "metadata": {},
   "outputs": [],
   "source": [
    "Model = pd.DataFrame({\n",
    "    'RandomForest':[max(RD_Accuracy_results), max(RD_auc_result)],\n",
    "    'Ada': [max(Ada_Accuracy_results),max(Ada_auc_result)],\n",
    "    'Gradient': [max(GB_Accuracy),max(GB_auc)],\n",
    "    'XGB':[max(xgb_Accuracy),max(xgb_auc)]},\n",
    "    index = ['Accuracy','AUC'])"
   ]
  },
  {
   "cell_type": "code",
   "execution_count": 31,
   "id": "d27eb2e7",
   "metadata": {},
   "outputs": [
    {
     "data": {
      "text/html": [
       "<div>\n",
       "<style scoped>\n",
       "    .dataframe tbody tr th:only-of-type {\n",
       "        vertical-align: middle;\n",
       "    }\n",
       "\n",
       "    .dataframe tbody tr th {\n",
       "        vertical-align: top;\n",
       "    }\n",
       "\n",
       "    .dataframe thead th {\n",
       "        text-align: right;\n",
       "    }\n",
       "</style>\n",
       "<table border=\"1\" class=\"dataframe\">\n",
       "  <thead>\n",
       "    <tr style=\"text-align: right;\">\n",
       "      <th></th>\n",
       "      <th>RandomForest</th>\n",
       "      <th>Ada</th>\n",
       "      <th>Gradient</th>\n",
       "      <th>XGB</th>\n",
       "    </tr>\n",
       "  </thead>\n",
       "  <tbody>\n",
       "    <tr>\n",
       "      <th>Accuracy</th>\n",
       "      <td>0.838401</td>\n",
       "      <td>0.844911</td>\n",
       "      <td>0.847184</td>\n",
       "      <td>0.846815</td>\n",
       "    </tr>\n",
       "    <tr>\n",
       "      <th>AUC</th>\n",
       "      <td>0.881321</td>\n",
       "      <td>0.897377</td>\n",
       "      <td>0.897377</td>\n",
       "      <td>0.897458</td>\n",
       "    </tr>\n",
       "  </tbody>\n",
       "</table>\n",
       "</div>"
      ],
      "text/plain": [
       "          RandomForest       Ada  Gradient       XGB\n",
       "Accuracy      0.838401  0.844911  0.847184  0.846815\n",
       "AUC           0.881321  0.897377  0.897377  0.897458"
      ]
     },
     "execution_count": 31,
     "metadata": {},
     "output_type": "execute_result"
    }
   ],
   "source": [
    "Model"
   ]
  },
  {
   "cell_type": "code",
   "execution_count": null,
   "id": "a055330b",
   "metadata": {},
   "outputs": [],
   "source": []
  }
 ],
 "metadata": {
  "kernelspec": {
   "display_name": "Python 3 (ipykernel)",
   "language": "python",
   "name": "python3"
  },
  "language_info": {
   "codemirror_mode": {
    "name": "ipython",
    "version": 3
   },
   "file_extension": ".py",
   "mimetype": "text/x-python",
   "name": "python",
   "nbconvert_exporter": "python",
   "pygments_lexer": "ipython3",
   "version": "3.9.12"
  }
 },
 "nbformat": 4,
 "nbformat_minor": 5
}
